{
 "metadata": {
  "language_info": {
   "codemirror_mode": {
    "name": "ipython",
    "version": 3
   },
   "file_extension": ".py",
   "mimetype": "text/x-python",
   "name": "python",
   "nbconvert_exporter": "python",
   "pygments_lexer": "ipython3",
   "version": "3.8.0"
  },
  "orig_nbformat": 2,
  "kernelspec": {
   "name": "python380jvsc74a57bd04d21c5017a3395ea95cb512be2638581094a384049928509a361c83b57b948d5",
   "display_name": "Python 3.8.0 64-bit"
  },
  "metadata": {
   "interpreter": {
    "hash": "4d21c5017a3395ea95cb512be2638581094a384049928509a361c83b57b948d5"
   }
  }
 },
 "nbformat": 4,
 "nbformat_minor": 2,
 "cells": [
  {
   "cell_type": "code",
   "execution_count": 94,
   "metadata": {},
   "outputs": [],
   "source": [
    "import pandas as pd\n",
    "import numpy as np"
   ]
  },
  {
   "cell_type": "code",
   "execution_count": 95,
   "metadata": {},
   "outputs": [
    {
     "output_type": "execute_result",
     "data": {
      "text/plain": [
       "                                                query                     tag\n",
       "0                      Are you open at 10 in morning?                  timing\n",
       "1                              What are your timings?                  timing\n",
       "2               On which day you are close in a week?                  timing\n",
       "3        Till when you are open for service in night?                  timing\n",
       "4      Are you provide delivery in Indira Nagar area?                delivery\n",
       "5           How far you provide delivery of an order?                delivery\n",
       "6            How much atmost I will recieve my order?                delivery\n",
       "7   Does Dominos deliver the pizza for free after ...                delivery\n",
       "8                       Is there any offer available?                  offers\n",
       "9                               What are the offers ?                  offers\n",
       "10                              What is your address?                 address\n",
       "11                         How can I reach your shop?                 address\n",
       "12            In which area I can directly reach you?                 address\n",
       "13                   Where your pizza shop available?                 address\n",
       "14             Is there any shop in Polytechnic area?                 address\n",
       "15                Is there any combo offer available?                   combo\n",
       "16                         What are the combo offers?                   combo\n",
       "17   Could you please tell the combo offers avilable?                   combo\n",
       "18  Is there any combo offer in which i will get 2...                   combo\n",
       "19                                 What is your menu?                    menu\n",
       "20                               Can i see your menu?                    menu\n",
       "21    Margreta pizza avilable available in your shop?                    menu\n",
       "22          Is there any special day offer available?  special day(wednesday)\n",
       "23  On which day of week customer will get some di...  special day(wednesday)\n",
       "24       How much discount i will get on special day?  special day(wednesday)\n",
       "25                    what is combo offer of the week                   combo\n",
       "26   Chicken variety of pizza available in your menu?                    menu\n",
       "27                             available combo offers                   combo\n",
       "28      what is the basic distance for free delivery?                delivery\n",
       "29                  how far can you deliver for free?                delivery\n",
       "30                        is free delivery available?                delivery\n",
       "31                               what is in the menu?                    menu\n",
       "32                   what are the options in the menu                    menu\n",
       "33                                   show me the menu                    menu\n",
       "34                                 is there any offer                  offers\n",
       "35                   what are the offers on the pizza                  offers\n",
       "36                     are discount offers available?                  offers\n",
       "37                                 when do you close?                  timing\n",
       "38                                  when do you open?                  timing\n",
       "39                              what is closing time?                  timing\n",
       "40                                   how do we reach?                 address\n",
       "41                      are you available in lucknow?                 address\n",
       "42                             where are you located?                 address\n",
       "43                                are you open at 9am                  timing\n",
       "44                          is there any pizza combos                   combo\n",
       "45                    what is combo offer of the week                   combo\n",
       "46                             available combo offers                   combo\n",
       "47                       are there burgers available?                    menu\n",
       "48                       do you deliver free of cost?                delivery"
      ],
      "text/html": "<div>\n<style scoped>\n    .dataframe tbody tr th:only-of-type {\n        vertical-align: middle;\n    }\n\n    .dataframe tbody tr th {\n        vertical-align: top;\n    }\n\n    .dataframe thead th {\n        text-align: right;\n    }\n</style>\n<table border=\"1\" class=\"dataframe\">\n  <thead>\n    <tr style=\"text-align: right;\">\n      <th></th>\n      <th>query</th>\n      <th>tag</th>\n    </tr>\n  </thead>\n  <tbody>\n    <tr>\n      <th>0</th>\n      <td>Are you open at 10 in morning?</td>\n      <td>timing</td>\n    </tr>\n    <tr>\n      <th>1</th>\n      <td>What are your timings?</td>\n      <td>timing</td>\n    </tr>\n    <tr>\n      <th>2</th>\n      <td>On which day you are close in a week?</td>\n      <td>timing</td>\n    </tr>\n    <tr>\n      <th>3</th>\n      <td>Till when you are open for service in night?</td>\n      <td>timing</td>\n    </tr>\n    <tr>\n      <th>4</th>\n      <td>Are you provide delivery in Indira Nagar area?</td>\n      <td>delivery</td>\n    </tr>\n    <tr>\n      <th>5</th>\n      <td>How far you provide delivery of an order?</td>\n      <td>delivery</td>\n    </tr>\n    <tr>\n      <th>6</th>\n      <td>How much atmost I will recieve my order?</td>\n      <td>delivery</td>\n    </tr>\n    <tr>\n      <th>7</th>\n      <td>Does Dominos deliver the pizza for free after ...</td>\n      <td>delivery</td>\n    </tr>\n    <tr>\n      <th>8</th>\n      <td>Is there any offer available?</td>\n      <td>offers</td>\n    </tr>\n    <tr>\n      <th>9</th>\n      <td>What are the offers ?</td>\n      <td>offers</td>\n    </tr>\n    <tr>\n      <th>10</th>\n      <td>What is your address?</td>\n      <td>address</td>\n    </tr>\n    <tr>\n      <th>11</th>\n      <td>How can I reach your shop?</td>\n      <td>address</td>\n    </tr>\n    <tr>\n      <th>12</th>\n      <td>In which area I can directly reach you?</td>\n      <td>address</td>\n    </tr>\n    <tr>\n      <th>13</th>\n      <td>Where your pizza shop available?</td>\n      <td>address</td>\n    </tr>\n    <tr>\n      <th>14</th>\n      <td>Is there any shop in Polytechnic area?</td>\n      <td>address</td>\n    </tr>\n    <tr>\n      <th>15</th>\n      <td>Is there any combo offer available?</td>\n      <td>combo</td>\n    </tr>\n    <tr>\n      <th>16</th>\n      <td>What are the combo offers?</td>\n      <td>combo</td>\n    </tr>\n    <tr>\n      <th>17</th>\n      <td>Could you please tell the combo offers avilable?</td>\n      <td>combo</td>\n    </tr>\n    <tr>\n      <th>18</th>\n      <td>Is there any combo offer in which i will get 2...</td>\n      <td>combo</td>\n    </tr>\n    <tr>\n      <th>19</th>\n      <td>What is your menu?</td>\n      <td>menu</td>\n    </tr>\n    <tr>\n      <th>20</th>\n      <td>Can i see your menu?</td>\n      <td>menu</td>\n    </tr>\n    <tr>\n      <th>21</th>\n      <td>Margreta pizza avilable available in your shop?</td>\n      <td>menu</td>\n    </tr>\n    <tr>\n      <th>22</th>\n      <td>Is there any special day offer available?</td>\n      <td>special day(wednesday)</td>\n    </tr>\n    <tr>\n      <th>23</th>\n      <td>On which day of week customer will get some di...</td>\n      <td>special day(wednesday)</td>\n    </tr>\n    <tr>\n      <th>24</th>\n      <td>How much discount i will get on special day?</td>\n      <td>special day(wednesday)</td>\n    </tr>\n    <tr>\n      <th>25</th>\n      <td>what is combo offer of the week</td>\n      <td>combo</td>\n    </tr>\n    <tr>\n      <th>26</th>\n      <td>Chicken variety of pizza available in your menu?</td>\n      <td>menu</td>\n    </tr>\n    <tr>\n      <th>27</th>\n      <td>available combo offers</td>\n      <td>combo</td>\n    </tr>\n    <tr>\n      <th>28</th>\n      <td>what is the basic distance for free delivery?</td>\n      <td>delivery</td>\n    </tr>\n    <tr>\n      <th>29</th>\n      <td>how far can you deliver for free?</td>\n      <td>delivery</td>\n    </tr>\n    <tr>\n      <th>30</th>\n      <td>is free delivery available?</td>\n      <td>delivery</td>\n    </tr>\n    <tr>\n      <th>31</th>\n      <td>what is in the menu?</td>\n      <td>menu</td>\n    </tr>\n    <tr>\n      <th>32</th>\n      <td>what are the options in the menu</td>\n      <td>menu</td>\n    </tr>\n    <tr>\n      <th>33</th>\n      <td>show me the menu</td>\n      <td>menu</td>\n    </tr>\n    <tr>\n      <th>34</th>\n      <td>is there any offer</td>\n      <td>offers</td>\n    </tr>\n    <tr>\n      <th>35</th>\n      <td>what are the offers on the pizza</td>\n      <td>offers</td>\n    </tr>\n    <tr>\n      <th>36</th>\n      <td>are discount offers available?</td>\n      <td>offers</td>\n    </tr>\n    <tr>\n      <th>37</th>\n      <td>when do you close?</td>\n      <td>timing</td>\n    </tr>\n    <tr>\n      <th>38</th>\n      <td>when do you open?</td>\n      <td>timing</td>\n    </tr>\n    <tr>\n      <th>39</th>\n      <td>what is closing time?</td>\n      <td>timing</td>\n    </tr>\n    <tr>\n      <th>40</th>\n      <td>how do we reach?</td>\n      <td>address</td>\n    </tr>\n    <tr>\n      <th>41</th>\n      <td>are you available in lucknow?</td>\n      <td>address</td>\n    </tr>\n    <tr>\n      <th>42</th>\n      <td>where are you located?</td>\n      <td>address</td>\n    </tr>\n    <tr>\n      <th>43</th>\n      <td>are you open at 9am</td>\n      <td>timing</td>\n    </tr>\n    <tr>\n      <th>44</th>\n      <td>is there any pizza combos</td>\n      <td>combo</td>\n    </tr>\n    <tr>\n      <th>45</th>\n      <td>what is combo offer of the week</td>\n      <td>combo</td>\n    </tr>\n    <tr>\n      <th>46</th>\n      <td>available combo offers</td>\n      <td>combo</td>\n    </tr>\n    <tr>\n      <th>47</th>\n      <td>are there burgers available?</td>\n      <td>menu</td>\n    </tr>\n    <tr>\n      <th>48</th>\n      <td>do you deliver free of cost?</td>\n      <td>delivery</td>\n    </tr>\n  </tbody>\n</table>\n</div>"
     },
     "metadata": {},
     "execution_count": 95
    }
   ],
   "source": [
    "qdf=pd.read_csv(\"query_dataset.csv\")\n",
    "qdf"
   ]
  },
  {
   "cell_type": "code",
   "execution_count": 96,
   "metadata": {},
   "outputs": [
    {
     "output_type": "execute_result",
     "data": {
      "text/plain": [
       "['Are you open at 10 in morning?',\n",
       " 'What are your timings?',\n",
       " 'On which day you are close in a week?',\n",
       " 'Till when you are open for service in night?',\n",
       " 'Are you provide delivery in Indira Nagar area?',\n",
       " 'How far you provide delivery of an order?',\n",
       " 'How much atmost I will recieve my order?',\n",
       " 'Does Dominos deliver the pizza for free after thirty minutes?',\n",
       " 'Is there any offer available?',\n",
       " 'What are the offers ?',\n",
       " 'What is your address?',\n",
       " 'How can I reach your shop?',\n",
       " 'In which area I can directly reach you?',\n",
       " 'Where your pizza shop available?',\n",
       " 'Is there any shop in Polytechnic area?',\n",
       " 'Is there any combo offer available?',\n",
       " 'What are the combo offers?',\n",
       " 'Could you please tell the combo offers avilable?',\n",
       " 'Is there any combo offer in which i will get 2 coke with pizza?',\n",
       " 'What is your menu?',\n",
       " 'Can i see your menu?',\n",
       " 'Margreta pizza avilable available in your shop?',\n",
       " 'Is there any special day offer available?',\n",
       " 'On which day of week customer will get some discount?',\n",
       " 'How much discount i will get on special day?',\n",
       " 'what is combo offer of the week',\n",
       " 'Chicken variety of pizza available in your menu?',\n",
       " 'available combo offers',\n",
       " 'what is the basic distance for free delivery?',\n",
       " 'how far can you deliver for free?',\n",
       " 'is free delivery available?',\n",
       " 'what is in the menu?',\n",
       " 'what are the options in the menu',\n",
       " 'show me the menu',\n",
       " 'is there any offer',\n",
       " 'what are the offers on the pizza',\n",
       " 'are discount offers available?',\n",
       " 'when do you close?',\n",
       " 'when do you open?',\n",
       " 'what is closing time?',\n",
       " 'how do we reach?',\n",
       " 'are you available in lucknow?',\n",
       " 'where are you located?',\n",
       " 'are you open at 9am',\n",
       " 'is there any pizza combos',\n",
       " 'what is combo offer of the week',\n",
       " 'available combo offers',\n",
       " 'are there burgers available?',\n",
       " 'do you deliver free of cost?']"
      ]
     },
     "metadata": {},
     "execution_count": 96
    }
   ],
   "source": [
    "x=qdf[\"query\"].tolist()\n",
    "x"
   ]
  },
  {
   "cell_type": "code",
   "execution_count": 97,
   "metadata": {},
   "outputs": [
    {
     "output_type": "execute_result",
     "data": {
      "text/plain": [
       "['timing',\n",
       " 'timing',\n",
       " 'timing',\n",
       " 'timing',\n",
       " 'delivery',\n",
       " 'delivery',\n",
       " 'delivery',\n",
       " 'delivery',\n",
       " 'offers',\n",
       " 'offers',\n",
       " 'address',\n",
       " 'address',\n",
       " 'address',\n",
       " 'address',\n",
       " 'address',\n",
       " 'combo',\n",
       " 'combo',\n",
       " 'combo',\n",
       " 'combo',\n",
       " 'menu',\n",
       " 'menu',\n",
       " 'menu',\n",
       " 'special day(wednesday)',\n",
       " 'special day(wednesday)',\n",
       " 'special day(wednesday)',\n",
       " 'combo',\n",
       " 'menu',\n",
       " 'combo',\n",
       " 'delivery',\n",
       " 'delivery',\n",
       " 'delivery',\n",
       " 'menu',\n",
       " 'menu',\n",
       " 'menu',\n",
       " 'offers',\n",
       " 'offers',\n",
       " 'offers',\n",
       " 'timing',\n",
       " 'timing',\n",
       " 'timing',\n",
       " 'address',\n",
       " 'address',\n",
       " 'address',\n",
       " 'timing',\n",
       " 'combo',\n",
       " 'combo',\n",
       " 'combo',\n",
       " 'menu',\n",
       " 'delivery']"
      ]
     },
     "metadata": {},
     "execution_count": 97
    }
   ],
   "source": [
    "y=qdf[\"tag\"].tolist()\n",
    "y"
   ]
  },
  {
   "cell_type": "code",
   "execution_count": 98,
   "metadata": {},
   "outputs": [
    {
     "output_type": "execute_result",
     "data": {
      "text/plain": [
       "array([[1, 0, 0, ..., 0, 0, 0],\n",
       "       [0, 0, 0, ..., 1, 0, 0],\n",
       "       [0, 0, 0, ..., 0, 0, 1],\n",
       "       ...,\n",
       "       [0, 0, 0, ..., 0, 0, 0],\n",
       "       [0, 0, 0, ..., 0, 0, 0],\n",
       "       [0, 0, 0, ..., 0, 0, 0]], dtype=int64)"
      ]
     },
     "metadata": {},
     "execution_count": 98
    }
   ],
   "source": [
    "from sklearn.feature_extraction.text import CountVectorizer\n",
    "\n",
    "vectorizer=CountVectorizer(stop_words=\"english\")\n",
    "x=vectorizer.fit_transform(x)\n",
    "x.toarray()"
   ]
  },
  {
   "cell_type": "code",
   "execution_count": 99,
   "metadata": {},
   "outputs": [
    {
     "output_type": "stream",
     "name": "stdout",
     "text": [
      "['10', '9am', 'address', 'area', 'atmost', 'available', 'avilable', 'basic', 'burgers', 'chicken', 'close', 'closing', 'coke', 'combo', 'combos', 'cost', 'customer', 'day', 'deliver', 'delivery', 'directly', 'discount', 'distance', 'does', 'dominos', 'far', 'free', 'indira', 'located', 'lucknow', 'margreta', 'menu', 'minutes', 'morning', 'nagar', 'night', 'offer', 'offers', 'open', 'options', 'order', 'pizza', 'polytechnic', 'provide', 'reach', 'recieve', 'service', 'shop', 'special', 'tell', 'thirty', 'till', 'time', 'timings', 'variety', 'week']\n"
     ]
    }
   ],
   "source": [
    "print(vectorizer.get_feature_names())"
   ]
  },
  {
   "cell_type": "code",
   "execution_count": 100,
   "metadata": {},
   "outputs": [
    {
     "output_type": "execute_result",
     "data": {
      "text/plain": [
       "array([[0, 0, 0, 0, 0, 0, 1],\n",
       "       [0, 0, 0, 0, 0, 0, 1],\n",
       "       [0, 0, 0, 0, 0, 0, 1],\n",
       "       [0, 0, 0, 0, 0, 0, 1],\n",
       "       [0, 0, 1, 0, 0, 0, 0],\n",
       "       [0, 0, 1, 0, 0, 0, 0],\n",
       "       [0, 0, 1, 0, 0, 0, 0],\n",
       "       [0, 0, 1, 0, 0, 0, 0],\n",
       "       [0, 0, 0, 0, 1, 0, 0],\n",
       "       [0, 0, 0, 0, 1, 0, 0],\n",
       "       [1, 0, 0, 0, 0, 0, 0],\n",
       "       [1, 0, 0, 0, 0, 0, 0],\n",
       "       [1, 0, 0, 0, 0, 0, 0],\n",
       "       [1, 0, 0, 0, 0, 0, 0],\n",
       "       [1, 0, 0, 0, 0, 0, 0],\n",
       "       [0, 1, 0, 0, 0, 0, 0],\n",
       "       [0, 1, 0, 0, 0, 0, 0],\n",
       "       [0, 1, 0, 0, 0, 0, 0],\n",
       "       [0, 1, 0, 0, 0, 0, 0],\n",
       "       [0, 0, 0, 1, 0, 0, 0],\n",
       "       [0, 0, 0, 1, 0, 0, 0],\n",
       "       [0, 0, 0, 1, 0, 0, 0],\n",
       "       [0, 0, 0, 0, 0, 1, 0],\n",
       "       [0, 0, 0, 0, 0, 1, 0],\n",
       "       [0, 0, 0, 0, 0, 1, 0],\n",
       "       [0, 1, 0, 0, 0, 0, 0],\n",
       "       [0, 0, 0, 1, 0, 0, 0],\n",
       "       [0, 1, 0, 0, 0, 0, 0],\n",
       "       [0, 0, 1, 0, 0, 0, 0],\n",
       "       [0, 0, 1, 0, 0, 0, 0],\n",
       "       [0, 0, 1, 0, 0, 0, 0],\n",
       "       [0, 0, 0, 1, 0, 0, 0],\n",
       "       [0, 0, 0, 1, 0, 0, 0],\n",
       "       [0, 0, 0, 1, 0, 0, 0],\n",
       "       [0, 0, 0, 0, 1, 0, 0],\n",
       "       [0, 0, 0, 0, 1, 0, 0],\n",
       "       [0, 0, 0, 0, 1, 0, 0],\n",
       "       [0, 0, 0, 0, 0, 0, 1],\n",
       "       [0, 0, 0, 0, 0, 0, 1],\n",
       "       [0, 0, 0, 0, 0, 0, 1],\n",
       "       [1, 0, 0, 0, 0, 0, 0],\n",
       "       [1, 0, 0, 0, 0, 0, 0],\n",
       "       [1, 0, 0, 0, 0, 0, 0],\n",
       "       [0, 0, 0, 0, 0, 0, 1],\n",
       "       [0, 1, 0, 0, 0, 0, 0],\n",
       "       [0, 1, 0, 0, 0, 0, 0],\n",
       "       [0, 1, 0, 0, 0, 0, 0],\n",
       "       [0, 0, 0, 1, 0, 0, 0],\n",
       "       [0, 0, 1, 0, 0, 0, 0]])"
      ]
     },
     "metadata": {},
     "execution_count": 100
    }
   ],
   "source": [
    "from sklearn.preprocessing import LabelBinarizer\n",
    "\n",
    "lb=LabelBinarizer()\n",
    "y=lb.fit_transform(y)\n",
    "y"
   ]
  },
  {
   "cell_type": "code",
   "execution_count": 101,
   "metadata": {},
   "outputs": [
    {
     "output_type": "stream",
     "name": "stdout",
     "text": [
      "['address' 'combo' 'delivery' 'menu' 'offers' 'special day(wednesday)'\n 'timing']\n"
     ]
    }
   ],
   "source": [
    "print(lb.classes_)"
   ]
  },
  {
   "cell_type": "code",
   "execution_count": 102,
   "metadata": {},
   "outputs": [
    {
     "output_type": "execute_result",
     "data": {
      "text/plain": [
       "array([[0, 0, 0, 0, 0, 1, 0, 0, 0, 0, 0, 0, 0, 0, 0, 0, 0, 1, 0, 0, 0, 0,\n",
       "        0, 0, 0, 0, 0, 0, 0, 0, 0, 0, 0, 0, 0, 0, 1, 0, 0, 0, 0, 0, 0, 0,\n",
       "        0, 0, 0, 0, 1, 0, 0, 0, 0, 0, 0, 0]], dtype=int64)"
      ]
     },
     "metadata": {},
     "execution_count": 102
    }
   ],
   "source": [
    "from sklearn.ensemble import RandomForestClassifier\n",
    "\n",
    "model=RandomForestClassifier(random_state=1)\n",
    "model.fit(x,y)\n",
    "text = 'Is there any special day offer available?'\n",
    "input_data = vectorizer.transform([text])\n",
    "input_data.toarray()"
   ]
  },
  {
   "cell_type": "code",
   "execution_count": 103,
   "metadata": {},
   "outputs": [],
   "source": [
    "result=model.predict(input_data)"
   ]
  },
  {
   "cell_type": "code",
   "execution_count": 104,
   "metadata": {},
   "outputs": [
    {
     "output_type": "execute_result",
     "data": {
      "text/plain": [
       "array(['special day(wednesday)'], dtype='<U22')"
      ]
     },
     "metadata": {},
     "execution_count": 104
    }
   ],
   "source": [
    "lb.inverse_transform(result)"
   ]
  },
  {
   "cell_type": "code",
   "execution_count": 105,
   "metadata": {},
   "outputs": [
    {
     "output_type": "execute_result",
     "data": {
      "text/plain": [
       "array(['address'], dtype='<U22')"
      ]
     },
     "metadata": {},
     "execution_count": 105
    }
   ],
   "source": [
    "text = 'How can I reach your shop?'\n",
    "input_data = vectorizer.transform([text])\n",
    "input_data.toarray()\n",
    "result=model.predict(input_data)\n",
    "lb.inverse_transform(result)"
   ]
  },
  {
   "cell_type": "code",
   "execution_count": 106,
   "metadata": {},
   "outputs": [],
   "source": [
    "text  = 'Chicken variety of pizza available in your menu?'\n",
    "input_data = vectorizer.transform([text])\n",
    "input_data.toarray()\n",
    "result = model.predict(input_data)\n",
    "ai_tag = (lb.inverse_transform(result))[0]"
   ]
  },
  {
   "source": [
    "## Getting Bot Reply"
   ],
   "cell_type": "markdown",
   "metadata": {}
  },
  {
   "cell_type": "code",
   "execution_count": 107,
   "metadata": {},
   "outputs": [],
   "source": [
    "rdf=pd.read_csv(\"bot_response_dataset.csv\")\n",
    "result_df=rdf[rdf['tag']==ai_tag]\n",
    "responses=result_df.bot_response.tolist()"
   ]
  },
  {
   "cell_type": "code",
   "execution_count": 108,
   "metadata": {},
   "outputs": [],
   "source": [
    "import random \n",
    "import pickle as pkl"
   ]
  },
  {
   "cell_type": "code",
   "execution_count": 109,
   "metadata": {},
   "outputs": [
    {
     "output_type": "execute_result",
     "data": {
      "text/plain": [
       "['Mexican Pizza, Cheese Margerita, Chicken nuggets only']"
      ]
     },
     "metadata": {},
     "execution_count": 109
    }
   ],
   "source": [
    "random.choices(responses)"
   ]
  },
  {
   "cell_type": "code",
   "execution_count": 110,
   "metadata": {},
   "outputs": [],
   "source": [
    "model_data={\n",
    "    'binarizer':lb,\n",
    "    'model':model,\n",
    "    'vectorizer':vectorizer,\n",
    "    'classes':lb.classes_\n",
    "}"
   ]
  },
  {
   "cell_type": "code",
   "execution_count": 111,
   "metadata": {},
   "outputs": [],
   "source": [
    "with open('model.pkl','wb') as f:\n",
    "    pkl.dump(model_data,f)"
   ]
  },
  {
   "source": [
    "## Testing saved model"
   ],
   "cell_type": "markdown",
   "metadata": {}
  },
  {
   "cell_type": "code",
   "execution_count": 112,
   "metadata": {},
   "outputs": [],
   "source": [
    "model_loaded_data={}\n",
    "with open('model.pkl','rb') as f:\n",
    "    model_loaded_data=pkl.loads(f.read())"
   ]
  },
  {
   "cell_type": "code",
   "execution_count": 113,
   "metadata": {},
   "outputs": [],
   "source": [
    "def predict_tag(txt=\"Hello World\",binarizer=None,model=None,vectorizer=None,*args,**kwargs):\n",
    "    input_vector=vectorizer.transform([txt])\n",
    "    result=model.predict(input_vector)\n",
    "    output_tag=lb.inverse_transform(result)\n",
    "    return output_tag[0]"
   ]
  },
  {
   "cell_type": "code",
   "execution_count": 114,
   "metadata": {},
   "outputs": [],
   "source": [
    "def get_bot_reply(predicted_tag):\n",
    "    result_df=rdf[rdf['tag']==predicted_tag]\n",
    "    responses=result_df.bot_response.to_list()\n",
    "    return random.choice(responses)"
   ]
  },
  {
   "cell_type": "code",
   "execution_count": 115,
   "metadata": {},
   "outputs": [
    {
     "output_type": "execute_result",
     "data": {
      "text/plain": [
       "'-> 10% discount on 2 pizzas, -> 30% discount on chiken nuggets\\t'"
      ]
     },
     "metadata": {},
     "execution_count": 115
    }
   ],
   "source": [
    "text = 'Is there any offer available?'\n",
    "tag = predict_tag(text,**model_loaded_data)\n",
    "get_bot_reply(tag)"
   ]
  },
  {
   "cell_type": "code",
   "execution_count": null,
   "metadata": {},
   "outputs": [],
   "source": []
  }
 ]
}